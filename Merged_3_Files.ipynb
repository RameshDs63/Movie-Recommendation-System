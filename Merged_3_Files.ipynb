{
 "cells": [
  {
   "cell_type": "code",
   "execution_count": 1,
   "id": "eef9169f",
   "metadata": {},
   "outputs": [
    {
     "name": "stdout",
     "output_type": "stream",
     "text": [
      "   movieId             title                                       genres   \n",
      "0        1  Toy Story (1995)  Adventure|Animation|Children|Comedy|Fantasy  \\\n",
      "1        1  Toy Story (1995)  Adventure|Animation|Children|Comedy|Fantasy   \n",
      "2        1  Toy Story (1995)  Adventure|Animation|Children|Comedy|Fantasy   \n",
      "3        1  Toy Story (1995)  Adventure|Animation|Children|Comedy|Fantasy   \n",
      "4        1  Toy Story (1995)  Adventure|Animation|Children|Comedy|Fantasy   \n",
      "\n",
      "   userId  rating   timestamp  imdbId  tmdbId  \n",
      "0       1     4.0   964982703  114709   862.0  \n",
      "1       5     4.0   847434962  114709   862.0  \n",
      "2       7     4.5  1106635946  114709   862.0  \n",
      "3      15     2.5  1510577970  114709   862.0  \n",
      "4      17     4.5  1305696483  114709   862.0  \n"
     ]
    }
   ],
   "source": [
    "import pandas as pd\n",
    "\n",
    "# Load movies.csv\n",
    "movies = pd.read_csv('movies.csv')\n",
    "\n",
    "# Load ratings.csv\n",
    "ratings = pd.read_csv('ratings.csv')\n",
    "\n",
    "# Load links.csv\n",
    "links = pd.read_csv('links.csv')\n",
    "\n",
    "# Merge the three DataFrames based on common columns\n",
    "merged_data = pd.merge(movies, ratings, on='movieId', how='inner')\n",
    "merged_data = pd.merge(merged_data, links, on='movieId', how='inner')\n",
    "\n",
    "# Display the resulting DataFrame\n",
    "print(merged_data.head())"
   ]
  },
  {
   "cell_type": "code",
   "execution_count": 3,
   "id": "5bc2862d",
   "metadata": {},
   "outputs": [
    {
     "name": "stdout",
     "output_type": "stream",
     "text": [
      "MovieId of the movie with the highest IMDB rating: 193587\n",
      "Title of the movie with the highest IMDB rating: Bungo Stray Dogs: Dead Apple (2018)\n"
     ]
    }
   ],
   "source": [
    "\n",
    "# Assuming 'merged_data' is the DataFrame after merging movies.csv, ratings.csv, and links.csv\n",
    "# If your DataFrame has a different name, replace 'merged_data' with the actual name\n",
    "\n",
    "# Find the movie with the highest IMDB rating\n",
    "highest_imdb_movie = merged_data.loc[merged_data['imdbId'].idxmax()]\n",
    "\n",
    "# Extract the movieId and title from the result\n",
    "highest_imdb_movie_id = highest_imdb_movie['movieId']\n",
    "highest_imdb_movie_title = highest_imdb_movie['title']\n",
    "\n",
    "# Display the result\n",
    "print(\"MovieId of the movie with the highest IMDB rating:\", highest_imdb_movie_id)\n",
    "print(\"Title of the movie with the highest IMDB rating:\", highest_imdb_movie_title)"
   ]
  },
  {
   "cell_type": "code",
   "execution_count": 4,
   "id": "fa317e22",
   "metadata": {},
   "outputs": [
    {
     "name": "stdout",
     "output_type": "stream",
     "text": [
      "MovieId of the Sci-Fi movie with the highest IMDB rating: 179053\n",
      "Name of the Sci-Fi movie with the highest IMDB rating: 2048: Nowhere to Run (2017)\n"
     ]
    }
   ],
   "source": [
    "# Assuming 'merged_data' is the DataFrame after merging movies.csv, ratings.csv, and links.csv\n",
    "# If your DataFrame has a different name, replace 'merged_data' with the actual name\n",
    "\n",
    "# Filter only Sci-Fi movies\n",
    "scifi_movies = merged_data[merged_data['genres'].str.contains('Sci-Fi')]\n",
    "\n",
    "# Find the Sci-Fi movie with the highest IMDB rating\n",
    "highest_imdb_scifi_movie = scifi_movies.loc[scifi_movies['imdbId'].idxmax()]\n",
    "\n",
    "# Extract the movieId and name from the result\n",
    "highest_imdb_scifi_movie_id = highest_imdb_scifi_movie['movieId']\n",
    "highest_imdb_scifi_movie_name = highest_imdb_scifi_movie['title']\n",
    "\n",
    "# Display the result\n",
    "print(\"MovieId of the Sci-Fi movie with the highest IMDB rating:\", highest_imdb_scifi_movie_id)\n",
    "print(\"Name of the Sci-Fi movie with the highest IMDB rating:\", highest_imdb_scifi_movie_name)"
   ]
  },
  {
   "cell_type": "code",
   "execution_count": null,
   "id": "e062597b",
   "metadata": {},
   "outputs": [],
   "source": []
  }
 ],
 "metadata": {
  "kernelspec": {
   "display_name": "Python 3 (ipykernel)",
   "language": "python",
   "name": "python3"
  },
  "language_info": {
   "codemirror_mode": {
    "name": "ipython",
    "version": 3
   },
   "file_extension": ".py",
   "mimetype": "text/x-python",
   "name": "python",
   "nbconvert_exporter": "python",
   "pygments_lexer": "ipython3",
   "version": "3.11.3"
  }
 },
 "nbformat": 4,
 "nbformat_minor": 5
}
