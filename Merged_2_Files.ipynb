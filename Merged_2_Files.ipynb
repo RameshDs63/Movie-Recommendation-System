{
 "cells": [
  {
   "cell_type": "code",
   "execution_count": 2,
   "id": "ae2117e3",
   "metadata": {},
   "outputs": [],
   "source": [
    "import pandas as pd\n",
    "import numpy as np"
   ]
  },
  {
   "cell_type": "code",
   "execution_count": 14,
   "id": "a6236b75",
   "metadata": {},
   "outputs": [],
   "source": [
    "movies = pd.read_csv('movies.csv')"
   ]
  },
  {
   "cell_type": "code",
   "execution_count": 4,
   "id": "2d3b758c",
   "metadata": {},
   "outputs": [],
   "source": [
    "df1 = pd.read_csv('ratings.csv')"
   ]
  },
  {
   "cell_type": "code",
   "execution_count": 5,
   "id": "3c886344",
   "metadata": {},
   "outputs": [
    {
     "name": "stdout",
     "output_type": "stream",
     "text": [
      "   movieId             title                                       genres   \n",
      "0        1  Toy Story (1995)  Adventure|Animation|Children|Comedy|Fantasy  \\\n",
      "1        1  Toy Story (1995)  Adventure|Animation|Children|Comedy|Fantasy   \n",
      "2        1  Toy Story (1995)  Adventure|Animation|Children|Comedy|Fantasy   \n",
      "3        1  Toy Story (1995)  Adventure|Animation|Children|Comedy|Fantasy   \n",
      "4        1  Toy Story (1995)  Adventure|Animation|Children|Comedy|Fantasy   \n",
      "\n",
      "   userId  rating   timestamp  \n",
      "0       1     4.0   964982703  \n",
      "1       5     4.0   847434962  \n",
      "2       7     4.5  1106635946  \n",
      "3      15     2.5  1510577970  \n",
      "4      17     4.5  1305696483  \n"
     ]
    }
   ],
   "source": [
    "import pandas as pd\n",
    "\n",
    "# Assuming you already have two DataFrames: movies_df and ratings_grouped_df\n",
    "\n",
    "# Perform inner join on 'movieId'\n",
    "merged_data = pd.merge(df, df1, on='movieId', how='inner')\n",
    "\n",
    "# Display the resulting DataFrame\n",
    "print(merged_data.head())"
   ]
  },
  {
   "cell_type": "code",
   "execution_count": 9,
   "id": "533959e8",
   "metadata": {},
   "outputs": [
    {
     "name": "stdout",
     "output_type": "stream",
     "text": [
      "      movieId  user_rating_count\n",
      "0           1                215\n",
      "1           2                110\n",
      "2           3                 52\n",
      "3           4                  7\n",
      "4           5                 49\n",
      "...       ...                ...\n",
      "9719   193581                  1\n",
      "9720   193583                  1\n",
      "9721   193585                  1\n",
      "9722   193587                  1\n",
      "9723   193609                  1\n",
      "\n",
      "[9724 rows x 2 columns]\n"
     ]
    }
   ],
   "source": [
    "import pandas as pd\n",
    "\n",
    "# Load the ratings.csv file (adjust the path accordingly)\n",
    "ratings = pd.read_csv('ratings.csv')\n",
    "\n",
    "# Group by movieId and count the number of ratings\n",
    "user_ratings_count = ratings.groupby('movieId')['rating'].count().reset_index(name='user_rating_count')\n",
    "\n",
    "# Display the resulting DataFrame\n",
    "print(user_ratings_count)\n"
   ]
  },
  {
   "cell_type": "code",
   "execution_count": 10,
   "id": "fc1f57ab",
   "metadata": {},
   "outputs": [
    {
     "name": "stdout",
     "output_type": "stream",
     "text": [
      "      movieId  user_rating_count\n",
      "0           1                215\n",
      "1           2                110\n",
      "2           3                 52\n",
      "5           6                102\n",
      "6           7                 54\n",
      "...       ...                ...\n",
      "8287   106782                 54\n",
      "8354   109374                 52\n",
      "8358   109487                 73\n",
      "8457   112852                 59\n",
      "8673   122904                 54\n",
      "\n",
      "[436 rows x 2 columns]\n"
     ]
    }
   ],
   "source": [
    "# Assuming you have 'user_ratings_count' DataFrame with columns 'movieId' and 'user_rating_count'\n",
    "# Replace 'user_ratings_count' with the actual name of your DataFrame\n",
    "\n",
    "# Filter movies with more than 50 user ratings\n",
    "popular_movies = user_ratings_count[user_ratings_count['user_rating_count'] > 50]\n",
    "\n",
    "# Display the resulting DataFrame\n",
    "print(popular_movies)\n"
   ]
  },
  {
   "cell_type": "code",
   "execution_count": 16,
   "id": "9a4c35f7",
   "metadata": {},
   "outputs": [
    {
     "name": "stdout",
     "output_type": "stream",
     "text": [
      "MovieId of the most popular movie based on average ratings: 318\n",
      "Title of the most popular movie based on average ratings: Shawshank Redemption, The (1994)\n",
      "Average rating of the most popular movie: 4.429022082018927\n"
     ]
    }
   ],
   "source": [
    "import pandas as pd\n",
    "\n",
    "# Assuming you have 'movies' and 'ratings' DataFrames\n",
    "# If your DataFrames have different names, replace 'movies' and 'ratings' with the actual names\n",
    "\n",
    "# Merge 'movies' and 'ratings' DataFrames on 'movieId'\n",
    "merged_data = pd.merge(movies, ratings, on='movieId', how='inner')\n",
    "\n",
    "# List of movie titles\n",
    "movie_titles = [\"Godfather, The (1972)\", \"Shawshank Redemption, The (1994)\", \"Jumanji (1995)\", \"Wolf of Wall Street, The (2013)\"]\n",
    "\n",
    "# Filter data for the specified movies\n",
    "selected_movies = merged_data[merged_data['title'].isin(movie_titles)]\n",
    "\n",
    "# Calculate the average rating for each selected movie\n",
    "average_ratings = selected_movies.groupby('title')['rating'].mean().reset_index(name='average_rating')\n",
    "\n",
    "# Find the movie with the highest average rating\n",
    "most_popular_movie = average_ratings.loc[average_ratings['average_rating'].idxmax()]\n",
    "\n",
    "# Extract the movieId, title, and average rating from the result\n",
    "most_popular_movie_id = selected_movies.loc[selected_movies['title'] == most_popular_movie['title'], 'movieId'].values[0]\n",
    "most_popular_movie_title = most_popular_movie['title']\n",
    "most_popular_movie_avg_rating = most_popular_movie['average_rating']\n",
    "\n",
    "# Display the result\n",
    "print(\"MovieId of the most popular movie based on average ratings:\", most_popular_movie_id)\n",
    "print(\"Title of the most popular movie based on average ratings:\", most_popular_movie_title)\n",
    "print(\"Average rating of the most popular movie:\", most_popular_movie_avg_rating)\n"
   ]
  },
  {
   "cell_type": "code",
   "execution_count": 19,
   "id": "266f3b40",
   "metadata": {},
   "outputs": [
    {
     "name": "stdout",
     "output_type": "stream",
     "text": [
      "Top 5 popular movies based on the number of user ratings:\n",
      "   movieId                             title  user_rating_count\n",
      "0      356               Forrest Gump (1994)                329\n",
      "1      318  Shawshank Redemption, The (1994)                317\n",
      "2      296               Pulp Fiction (1994)                307\n",
      "3      593  Silence of the Lambs, The (1991)                279\n",
      "4     2571                Matrix, The (1999)                278\n"
     ]
    }
   ],
   "source": [
    "# Assuming 'user_ratings_count' is the DataFrame with columns 'movieId' and 'user_rating_count'\n",
    "# If your DataFrame has a different name, replace 'user_ratings_count' with the actual name\n",
    "\n",
    "# Sort movies by the number of user ratings in descending order\n",
    "top_movies_by_ratings = user_ratings_count.sort_values(by='user_rating_count', ascending=False)\n",
    "\n",
    "# Select the top 5 movies\n",
    "top_5_movies = top_movies_by_ratings.head(5)\n",
    "\n",
    "# Assuming 'movies' is the DataFrame with columns 'movieId' and 'title'\n",
    "# If your DataFrame has a different name, replace 'movies' with the actual name\n",
    "result = pd.merge(top_5_movies, movies, on='movieId')\n",
    "\n",
    "# Display the result\n",
    "print(\"Top 5 popular movies based on the number of user ratings:\")\n",
    "print(result[['movieId', 'title', 'user_rating_count']])\n"
   ]
  },
  {
   "cell_type": "code",
   "execution_count": null,
   "id": "97142185",
   "metadata": {},
   "outputs": [],
   "source": []
  }
 ],
 "metadata": {
  "kernelspec": {
   "display_name": "Python 3 (ipykernel)",
   "language": "python",
   "name": "python3"
  },
  "language_info": {
   "codemirror_mode": {
    "name": "ipython",
    "version": 3
   },
   "file_extension": ".py",
   "mimetype": "text/x-python",
   "name": "python",
   "nbconvert_exporter": "python",
   "pygments_lexer": "ipython3",
   "version": "3.11.3"
  }
 },
 "nbformat": 4,
 "nbformat_minor": 5
}
