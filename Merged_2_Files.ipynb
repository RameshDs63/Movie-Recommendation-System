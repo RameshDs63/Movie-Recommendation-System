{
 "cells": [
  {
   "cell_type": "markdown",
   "id": "4245049d",
   "metadata": {},
   "source": [
    "# Lets read data"
   ]
  },
  {
   "cell_type": "code",
   "execution_count": 1,
   "id": "ae2117e3",
   "metadata": {},
   "outputs": [],
   "source": [
    "import pandas as pd\n",
    "import numpy as np"
   ]
  },
  {
   "cell_type": "markdown",
   "id": "ff6a8509",
   "metadata": {},
   "source": [
    "# Importing Dataset"
   ]
  },
  {
   "cell_type": "code",
   "execution_count": 2,
   "id": "a6236b75",
   "metadata": {},
   "outputs": [],
   "source": [
    "movies = pd.read_csv('movies.csv')"
   ]
  },
  {
   "cell_type": "code",
   "execution_count": 3,
   "id": "2d3b758c",
   "metadata": {},
   "outputs": [],
   "source": [
    "df1 = pd.read_csv('ratings.csv')"
   ]
  },
  {
   "cell_type": "markdown",
   "id": "1823835c",
   "metadata": {},
   "source": [
    "# Merge the two csv files"
   ]
  },
  {
   "cell_type": "code",
   "execution_count": 4,
   "id": "3c886344",
   "metadata": {},
   "outputs": [
    {
     "ename": "NameError",
     "evalue": "name 'df' is not defined",
     "output_type": "error",
     "traceback": [
      "\u001b[1;31m---------------------------------------------------------------------------\u001b[0m",
      "\u001b[1;31mNameError\u001b[0m                                 Traceback (most recent call last)",
      "Cell \u001b[1;32mIn[4], line 6\u001b[0m\n\u001b[0;32m      1\u001b[0m \u001b[38;5;28;01mimport\u001b[39;00m \u001b[38;5;21;01mpandas\u001b[39;00m \u001b[38;5;28;01mas\u001b[39;00m \u001b[38;5;21;01mpd\u001b[39;00m\n\u001b[0;32m      3\u001b[0m \u001b[38;5;66;03m# Assuming you already have two DataFrames: movies_df and ratings_grouped_df\u001b[39;00m\n\u001b[0;32m      4\u001b[0m \n\u001b[0;32m      5\u001b[0m \u001b[38;5;66;03m# Perform inner join on 'movieId'\u001b[39;00m\n\u001b[1;32m----> 6\u001b[0m merged_data \u001b[38;5;241m=\u001b[39m pd\u001b[38;5;241m.\u001b[39mmerge(\u001b[43mdf\u001b[49m, df1, on\u001b[38;5;241m=\u001b[39m\u001b[38;5;124m'\u001b[39m\u001b[38;5;124mmovieId\u001b[39m\u001b[38;5;124m'\u001b[39m, how\u001b[38;5;241m=\u001b[39m\u001b[38;5;124m'\u001b[39m\u001b[38;5;124minner\u001b[39m\u001b[38;5;124m'\u001b[39m)\n\u001b[0;32m      8\u001b[0m \u001b[38;5;66;03m# Display the resulting DataFrame\u001b[39;00m\n\u001b[0;32m      9\u001b[0m \u001b[38;5;28mprint\u001b[39m(merged_data\u001b[38;5;241m.\u001b[39mhead())\n",
      "\u001b[1;31mNameError\u001b[0m: name 'df' is not defined"
     ]
    }
   ],
   "source": [
    "import pandas as pd\n",
    "\n",
    "# Assuming you already have two DataFrames: movies_df and ratings_grouped_df\n",
    "\n",
    "# Perform inner join on 'movieId'\n",
    "merged_data = pd.merge(df, df1, on='movieId', how='inner')\n",
    "\n",
    "# Display the resulting DataFrame\n",
    "print(merged_data.head())"
   ]
  },
  {
   "cell_type": "code",
   "execution_count": null,
   "id": "533959e8",
   "metadata": {},
   "outputs": [],
   "source": [
    "import pandas as pd\n",
    "\n",
    "# Load the ratings.csv file (adjust the path accordingly)\n",
    "ratings = pd.read_csv('ratings.csv')\n",
    "\n",
    "# Group by movieId and count the number of ratings\n",
    "user_ratings_count = ratings.groupby('movieId')['rating'].count().reset_index(name='user_rating_count')\n",
    "\n",
    "# Display the resulting DataFrame\n",
    "print(user_ratings_count)\n"
   ]
  },
  {
   "cell_type": "code",
   "execution_count": null,
   "id": "fc1f57ab",
   "metadata": {},
   "outputs": [],
   "source": [
    "# Assuming you have 'user_ratings_count' DataFrame with columns 'movieId' and 'user_rating_count'\n",
    "# Replace 'user_ratings_count' with the actual name of your DataFrame\n",
    "\n",
    "# Filter movies with more than 50 user ratings\n",
    "popular_movies = user_ratings_count[user_ratings_count['user_rating_count'] > 50]\n",
    "\n",
    "# Display the resulting DataFrame\n",
    "print(popular_movies)\n"
   ]
  },
  {
   "cell_type": "markdown",
   "id": "465e2528",
   "metadata": {},
   "source": [
    "# most popular based on  average user ratings"
   ]
  },
  {
   "cell_type": "code",
   "execution_count": null,
   "id": "9a4c35f7",
   "metadata": {},
   "outputs": [],
   "source": [
    "import pandas as pd\n",
    "\n",
    "# Assuming you have 'movies' and 'ratings' DataFrames\n",
    "# If your DataFrames have different names, replace 'movies' and 'ratings' with the actual names\n",
    "\n",
    "# Merge 'movies' and 'ratings' DataFrames on 'movieId'\n",
    "merged_data = pd.merge(movies, ratings, on='movieId', how='inner')\n",
    "\n",
    "# List of movie titles\n",
    "movie_titles = [\"Godfather, The (1972)\", \"Shawshank Redemption, The (1994)\", \"Jumanji (1995)\", \"Wolf of Wall Street, The (2013)\"]\n",
    "\n",
    "# Filter data for the specified movies\n",
    "selected_movies = merged_data[merged_data['title'].isin(movie_titles)]\n",
    "\n",
    "# Calculate the average rating for each selected movie\n",
    "average_ratings = selected_movies.groupby('title')['rating'].mean().reset_index(name='average_rating')\n",
    "\n",
    "# Find the movie with the highest average rating\n",
    "most_popular_movie = average_ratings.loc[average_ratings['average_rating'].idxmax()]\n",
    "\n",
    "# Extract the movieId, title, and average rating from the result\n",
    "most_popular_movie_id = selected_movies.loc[selected_movies['title'] == most_popular_movie['title'], 'movieId'].values[0]\n",
    "most_popular_movie_title = most_popular_movie['title']\n",
    "most_popular_movie_avg_rating = most_popular_movie['average_rating']\n",
    "\n",
    "# Display the result\n",
    "print(\"MovieId of the most popular movie based on average ratings:\", most_popular_movie_id)\n",
    "print(\"Title of the most popular movie based on average ratings:\", most_popular_movie_title)\n",
    "print(\"Average rating of the most popular movie:\", most_popular_movie_avg_rating)\n"
   ]
  },
  {
   "cell_type": "markdown",
   "id": "3fcb66d8",
   "metadata": {},
   "source": [
    "# top 5 popular movies based on number of user ratings"
   ]
  },
  {
   "cell_type": "code",
   "execution_count": null,
   "id": "266f3b40",
   "metadata": {},
   "outputs": [],
   "source": [
    "# Assuming 'user_ratings_count' is the DataFrame with columns 'movieId' and 'user_rating_count'\n",
    "# If your DataFrame has a different name, replace 'user_ratings_count' with the actual name\n",
    "\n",
    "# Sort movies by the number of user ratings in descending order\n",
    "top_movies_by_ratings = user_ratings_count.sort_values(by='user_rating_count', ascending=False)\n",
    "\n",
    "# Select the top 5 movies\n",
    "top_5_movies = top_movies_by_ratings.head(5)\n",
    "\n",
    "# Assuming 'movies' is the DataFrame with columns 'movieId' and 'title'\n",
    "# If your DataFrame has a different name, replace 'movies' with the actual name\n",
    "result = pd.merge(top_5_movies, movies, on='movieId')\n",
    "\n",
    "# Display the result\n",
    "print(\"Top 5 popular movies based on the number of user ratings:\")\n",
    "print(result[['movieId', 'title', 'user_rating_count']])\n"
   ]
  },
  {
   "cell_type": "code",
   "execution_count": null,
   "id": "97142185",
   "metadata": {},
   "outputs": [],
   "source": []
  }
 ],
 "metadata": {
  "kernelspec": {
   "display_name": "Python 3 (ipykernel)",
   "language": "python",
   "name": "python3"
  },
  "language_info": {
   "codemirror_mode": {
    "name": "ipython",
    "version": 3
   },
   "file_extension": ".py",
   "mimetype": "text/x-python",
   "name": "python",
   "nbconvert_exporter": "python",
   "pygments_lexer": "ipython3",
   "version": "3.11.3"
  }
 },
 "nbformat": 4,
 "nbformat_minor": 5
}
